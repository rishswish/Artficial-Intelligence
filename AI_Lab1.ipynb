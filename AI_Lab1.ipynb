{
  "nbformat": 4,
  "nbformat_minor": 0,
  "metadata": {
    "colab": {
      "provenance": []
    },
    "kernelspec": {
      "name": "python3",
      "display_name": "Python 3"
    },
    "language_info": {
      "name": "python"
    }
  },
  "cells": [
    {
      "cell_type": "markdown",
      "source": [
        "* Name:: Rishabh Patil\n",
        "* Sap:: 60009200056\n",
        "* Batch::K/K2"
      ],
      "metadata": {
        "id": "ghKrXVAfCwel"
      }
    },
    {
      "cell_type": "markdown",
      "source": [
        "# 8 Puzzle"
      ],
      "metadata": {
        "id": "lqrHekhJAdUb"
      }
    },
    {
      "cell_type": "code",
      "execution_count": null,
      "metadata": {
        "colab": {
          "base_uri": "https://localhost:8080/"
        },
        "id": "7efLFu-u9zdo",
        "outputId": "497c41ce-97f9-4775-9a74-301119c4dcfb"
      },
      "outputs": [
        {
          "output_type": "stream",
          "name": "stdout",
          "text": [
            "enter the start state matrix \n",
            "\n",
            "1 2 3\n",
            "5 6 _\n",
            "4 7 8\n",
            "\n",
            "\n",
            "\n",
            "==================================================\n",
            "\n",
            "1 2 3 \n",
            "5 6 _ \n",
            "4 7 8 \n",
            "==================================================\n",
            "\n",
            "1 2 3 \n",
            "5 _ 6 \n",
            "4 7 8 \n",
            "==================================================\n",
            "\n",
            "1 2 3 \n",
            "_ 5 6 \n",
            "4 7 8 \n",
            "==================================================\n",
            "\n",
            "1 2 3 \n",
            "4 5 6 \n",
            "_ 7 8 \n",
            "==================================================\n",
            "\n",
            "1 2 3 \n",
            "4 5 6 \n",
            "7 _ 8 \n",
            "==================================================\n",
            "\n",
            "1 2 3 \n",
            "4 5 6 \n",
            "7 8 _ \n"
          ]
        }
      ],
      "source": [
        "class Node:\n",
        "    def __init__(self, data, level, fval):\n",
        "        self.data = data\n",
        "        self.level = level\n",
        "        self.fval = fval\n",
        "    def generate_child(self):\n",
        "        x, y = self.find(self.data, '_')\n",
        "        val_list = [[x, y - 1], [x, y + 1], [x - 1, y], [x + 1, y]]\n",
        "        children = []\n",
        "        for i in val_list:\n",
        "            child = self.shuffle(self.data, x, y, i[0], i[1])\n",
        "            if child is not None:\n",
        "                child_node = Node(child, self.level + 1, 0)\n",
        "                children.append(child_node)\n",
        "        return children\n",
        "    def shuffle(self, puz, x1, y1, x2, y2):\n",
        "        if x2 >= 0 and x2 < len(self.data) and y2 >= 0 and y2 < len(self.data):\n",
        "            temp_puz = []\n",
        "            temp_puz = self.copy(puz)\n",
        "            temp = temp_puz[x2][y2]\n",
        "            temp_puz[x2][y2] = temp_puz[x1][y1]\n",
        "            temp_puz[x1][y1] = temp\n",
        "            return temp_puz\n",
        "        else:\n",
        "            return None\n",
        "    def copy(self, root):\n",
        "        temp = []\n",
        "        for i in root:\n",
        "            t = []\n",
        "            for j in i:\n",
        "                t.append(j)\n",
        "            temp.append(t)\n",
        "        return temp\n",
        "    def find(self, puz, x):\n",
        "        for i in range(0, len(self.data)):\n",
        "            for j in range(0, len(self.data)):\n",
        "                if puz[i][j] == x:\n",
        "                    return i, j\n",
        "class Puzzle:\n",
        "    def __init__(self, size):\n",
        "        self.n = size\n",
        "        self.open = []\n",
        "        self.closed = []\n",
        "    def accept(self):\n",
        "        puz = []\n",
        "        for i in range(0, self.n):\n",
        "            temp = input().split(\" \")\n",
        "            puz.append(temp)\n",
        "        return puz\n",
        "\n",
        "    def f(self, start, goal):\n",
        "        return self.h(start.data, goal) + start.level\n",
        "\n",
        "    def h(self, start, goal):\n",
        "        temp = 0\n",
        "        for i in range(0, self.n):\n",
        "            for j in range(0, self.n):\n",
        "                if start[i][j] != goal[i][j] and start[i][j] != '_':\n",
        "                    temp += 1\n",
        "        return temp\n",
        "\n",
        "    def solve(self):\n",
        "        print(\"enter the start state matrix \\n\")\n",
        "        start = self.accept()\n",
        "        goal = [[\"1\",\"2\",\"3\"],[\"4\",\"5\",\"6\"],[\"7\",\"8\",\"_\"]]\n",
        "        start = Node(start, 0, 0)\n",
        "        start.fval = self.f(start, goal)\n",
        "        self.open.append(start)\n",
        "        print(\"\\n\\n\")\n",
        "        while True:\n",
        "            cur = self.open[0]\n",
        "            print(\"==================================================\\n\")\n",
        "            for i in cur.data:\n",
        "                for j in i:\n",
        "                    print(j, end=\" \")\n",
        "                print(\"\")\n",
        "            if (self.h(cur.data, goal) == 0):\n",
        "                break\n",
        "            for i in cur.generate_child():\n",
        "                i.fval = self.f(i, goal)\n",
        "                self.open.append(i)\n",
        "            self.closed.append(cur)\n",
        "            del self.open[0]\n",
        "            self.open.sort(key=lambda x: x.fval, reverse=False)\n",
        "puz = Puzzle(3)\n",
        "puz.solve()"
      ]
    },
    {
      "cell_type": "markdown",
      "source": [
        "# Traveling Salesman Problem"
      ],
      "metadata": {
        "id": "1jJdMWB2An_N"
      }
    },
    {
      "cell_type": "code",
      "source": [
        "data = []\n",
        "n=int(input(\"Enter number of vertices : \"))\n",
        "print(\"Enter the adjacency matrix : \")\n",
        "for i in range(n):\n",
        "  data.append(list(map(int,input().split())))\n",
        "def path_len(path):\n",
        "  return sum(data[i][j] for i, j in zip(path, path[1:]))\n",
        "to_visit = set(range(len(data)))\n",
        "state = {(i, frozenset([0, i])): [0, i] for i in range(1, len(data[0]))}\n",
        "for _ in range(len(data) - 2):\n",
        "  next_state = {}\n",
        "  for position, path in state.items():\n",
        "    current_node, visited = position\n",
        "    for node in to_visit - visited:\n",
        "      new_path = path + [node]\n",
        "      new_pos = (node, frozenset(new_path))\n",
        "      if new_pos not in next_state or path_len(new_path) < path_len(next_state[new_pos]):\n",
        "        next_state[new_pos] = new_path\n",
        "        state = next_state\n",
        "shortest = min((path + [0] for path in state.values()), key=path_len)\n",
        "print('Shortest path : {0}\\nLength of shortest path : {1}'.format(shortest, path_len(shortest)))"
      ],
      "metadata": {
        "colab": {
          "base_uri": "https://localhost:8080/"
        },
        "id": "hzYdzsNCAl85",
        "outputId": "90309190-84f4-4b9c-88ee-d7f9e789d39a"
      },
      "execution_count": null,
      "outputs": [
        {
          "output_type": "stream",
          "name": "stdout",
          "text": [
            "Enter number of vertices : 4\n",
            "Enter the adjacency matrix : \n",
            "0 10 15 21\n",
            "3 0 7 9\n",
            "5 12 0 13\n",
            "7 8 9 0\n",
            "Shortest path : [0, 1, 3, 2, 0]\n",
            "Length of shortest path : 33\n"
          ]
        }
      ]
    },
    {
      "cell_type": "markdown",
      "source": [
        "# Water Jug Problem\n"
      ],
      "metadata": {
        "id": "bpo-78WEBgPT"
      }
    },
    {
      "cell_type": "code",
      "source": [
        "from collections import deque\n",
        " \n",
        " \n",
        "def BFS(a, b, target):\n",
        " \n",
        "    # Map is used to store the states, every\n",
        "    # state is hashed to binary value to\n",
        "    # indicate either that state is visited\n",
        "    # before or not\n",
        "    m = {}\n",
        "    isSolvable = False\n",
        "    path = []\n",
        "    q = deque()\n",
        "    q.append((0, 0))\n",
        "    while (len(q) > 0):\n",
        "        u = q.popleft()\n",
        "        if ((u[0], u[1]) in m):\n",
        "            continue\n",
        "        if ((u[0] > a or u[1] > b or\n",
        "             u[0] < 0 or u[1] < 0)):\n",
        "            continue\n",
        "        path.append([u[0], u[1]])\n",
        "        m[(u[0], u[1])] = 1\n",
        "        if (u[0] == target or u[1] == target):\n",
        "            isSolvable = True\n",
        "            if (u[0] == target):\n",
        "                if (u[1] != 0):\n",
        "                    path.append([u[0], 0])\n",
        "            else:\n",
        "                if (u[0] != 0):\n",
        "                    path.append([0, u[1]])\n",
        "            sz = len(path)\n",
        "            for i in range(sz):\n",
        "                print(\"(\", path[i][0], \",\",\n",
        "                      path[i][1], \")\")\n",
        "            break\n",
        "        q.append([u[0], b])  # Fill Jug2\n",
        "        q.append([a, u[1]])  # Fill Jug1\n",
        " \n",
        "        for ap in range(max(a, b) + 1):\n",
        "            c = u[0] + ap\n",
        "            d = u[1] - ap\n",
        "            if (c == a or (d == 0 and d >= 0)):\n",
        "                q.append([c, d])\n",
        "            c = u[0] - ap\n",
        "            d = u[1] + ap\n",
        "            if ((c == 0 and c >= 0) or d == b):\n",
        "                q.append([c, d])\n",
        "        q.append([a, 0])\n",
        "        q.append([0, b])\n",
        "    if (not isSolvable):\n",
        "        print(\"No solution\")\n",
        "if __name__ == '__main__':\n",
        "    Jug1, Jug2, target = 4, 3, 2\n",
        "    print(\"Path from initial state to final state ::\")\n",
        "    BFS(Jug1, Jug2, target)\n",
        " "
      ],
      "metadata": {
        "colab": {
          "base_uri": "https://localhost:8080/"
        },
        "id": "_w4l7T9hBfUK",
        "outputId": "8b56cfed-dc6c-45fc-bcdd-e402b30b1b82"
      },
      "execution_count": null,
      "outputs": [
        {
          "output_type": "stream",
          "name": "stdout",
          "text": [
            "Path from initial state to final state ::\n",
            "( 0 , 0 )\n",
            "( 0 , 3 )\n",
            "( 4 , 0 )\n",
            "( 4 , 3 )\n",
            "( 3 , 0 )\n",
            "( 1 , 3 )\n",
            "( 3 , 3 )\n",
            "( 4 , 2 )\n",
            "( 0 , 2 )\n"
          ]
        }
      ]
    }
  ]
}