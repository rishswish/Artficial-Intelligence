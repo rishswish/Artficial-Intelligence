{
  "nbformat": 4,
  "nbformat_minor": 0,
  "metadata": {
    "colab": {
      "provenance": []
    },
    "kernelspec": {
      "name": "python3",
      "display_name": "Python 3"
    },
    "language_info": {
      "name": "python"
    }
  },
  "cells": [
    {
      "cell_type": "markdown",
      "source": [
        "*   **Rishabh Patil**\n",
        "*   **SAP : 60009200056**\n",
        "*   **Div : K/K2**"
      ],
      "metadata": {
        "id": "qvUxTWqEsrm2"
      }
    },
    {
      "cell_type": "code",
      "execution_count": null,
      "metadata": {
        "colab": {
          "base_uri": "https://localhost:8080/"
        },
        "id": "PH9iTA9T1_YN",
        "outputId": "1ea8fdc7-9bb0-4b3c-a7ec-bf3c9aeca78b"
      },
      "outputs": [
        {
          "output_type": "stream",
          "name": "stdout",
          "text": [
            "The barriers are :  [[(1, 1)], [(2, 1)], [(3, 1)], [(3, 2)]]\n",
            "Enter the start place : Juhu Beach\n",
            "Enter the end place : Geo Mall BKC\n",
            "route :  [(0, 0), (0, 1), (1, 2), (2, 3), (3, 4)]\n",
            "cost :  4\n"
          ]
        }
      ],
      "source": [
        "class AStarGraph(object):\n",
        "  def __init__(self):\n",
        "    self.barriers = [[(1,1)],[(2,1)],[(3,1)],[(3,2)]]\n",
        "    # t = int(input(\"Enter the total number of barriers : \"))\n",
        "    # for i in range(t):\n",
        "    #   x = int(input(\"Enter the row barrier : \"))\n",
        "    #   y = int(input(\"Enter the column barrier : \"))\n",
        "    #   self.barriers.append([(x,y)])\n",
        "    print(\"The barriers are : \",self.barriers)\n",
        "    #(1,1),(2,1),(3,1),(3,2)\n",
        "\n",
        "  def heuristic(self,start,goal):\n",
        "    D=1\n",
        "    D2=1\n",
        "    dx = abs(start[0]-goal[0])\n",
        "    dy = abs(start[1]-goal[1])\n",
        "    return D * (dx + dy) + (D2 - 2*D) * min(dx,dy)\n",
        "\n",
        "  def get_vertex_neighbours(self,pos):\n",
        "    n = []\n",
        "    for dx,dy in [(1,0),(-1,0),(0,1),(0,-1),(1,1)]:\n",
        "      x2 = pos[0] + dx\n",
        "      y2 = pos[1] + dy\n",
        "      if x2 < 0 or x2 > 5 or y2 < 0 or y2 > 5:\n",
        "        continue\n",
        "      n.append((x2,y2))\n",
        "    return n\n",
        "  \n",
        "  def move_cost(self,a,b):\n",
        "    for barrier in self.barriers:\n",
        "      if b in barrier:\n",
        "        return 100\n",
        "    return 1\n",
        "\n",
        "\n",
        "\n",
        "def AStarSearch(start,end,graph):\n",
        "  G={}\n",
        "  F={}\n",
        "\n",
        "  G[start] = 0 \n",
        "  F[start] = graph.heuristic(start,end)\n",
        "  \n",
        "  closedVertices = set()\n",
        "  openVertices = set([start])\n",
        "  cameFrom = {}\n",
        "\n",
        "  while len(openVertices)>0:\n",
        "    current = None\n",
        "    currentFscore = None\n",
        "    for pos in openVertices:\n",
        "      if current is None or F[pos]<currentFscore:\n",
        "        currentFscore = F[pos]\n",
        "        current = pos\n",
        "\n",
        "    if current == end:\n",
        "      path = [current]\n",
        "      while current in cameFrom:\n",
        "        current = cameFrom[current]\n",
        "        path.append(current)\n",
        "      path.reverse()\n",
        "      return path,F[end]\n",
        "    openVertices.remove(current)\n",
        "    closedVertices.add(current)\n",
        "\n",
        "    for neighbour in graph.get_vertex_neighbours(current):\n",
        "      if neighbour in closedVertices:\n",
        "        continue\n",
        "      candidateG = G[current] + graph.move_cost(current,neighbour)\n",
        "\n",
        "      if neighbour not in openVertices:\n",
        "        openVertices.add(neighbour)\n",
        "      elif candidateG >= G[neighbour]:\n",
        "        continue\n",
        "\n",
        "      \n",
        "      cameFrom[neighbour] = current\n",
        "      G[neighbour] = candidateG\n",
        "      H = graph.heuristic(neighbour,end)\n",
        "      F[neighbour] = G[neighbour] + H\n",
        "\n",
        "  # raise RuntimeError(\"A* Failed to find a solution\")\n",
        "\n",
        "\n",
        "if __name__ == \"__main__\":\n",
        "  graph = AStarGraph()\n",
        "  dict = {\"Juhu Beach\":[0,0],\"Wankhede Stadium\":[0,1],\"TaraPore Aquarium\":[0,2],\"Leopard\":[0,3],\"High Court\":[0,4],\n",
        "          \"CSMT\":[1,0],\"Siddhivinayak\":[1,1],\"Hanging Garden\":[1,2],\"Raheja Hospital\":[1,4],\n",
        "          \"Hinduja Hospital\":[2,0],\"PWC Office\":[2,4],\n",
        "          \"Masgaon Dock\":[3,0],\"Paledium\":[3,1],\"Race Course\":[3,2],\"Nair Hospital\":[3,3],\"Geo Mall BKC\":[3,4],\n",
        "          \"Babulnath Mandir\":[4,0],\"Ruparel College\":[4,1],\"VJTI\":[4,2],\"Manis Cafe\":[4,3],\"Gateway of India\":[4,4]\n",
        "          }\n",
        "  s1 = (input(\"Enter the start place : \"))\n",
        "  s2 = (input(\"Enter the end place : \"))\n",
        "\n",
        "  result,cost = AStarSearch((dict[s1][0],dict[s1][1]),(dict[s2][0],dict[s2][1]),graph)\n",
        "  print(\"route : \",result)\n",
        "  print(\"cost : \",cost)"
      ]
    },
    {
      "cell_type": "markdown",
      "source": [],
      "metadata": {
        "id": "ClUa_6cxsqxy"
      }
    }
  ]
}