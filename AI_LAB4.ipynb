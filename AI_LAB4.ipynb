{
  "nbformat": 4,
  "nbformat_minor": 0,
  "metadata": {
    "colab": {
      "provenance": []
    },
    "kernelspec": {
      "name": "python3",
      "display_name": "Python 3"
    },
    "language_info": {
      "name": "python"
    }
  },
  "cells": [
    {
      "cell_type": "markdown",
      "source": [
        "# **Name: Rishabh Patil**\n",
        "# **SapID: 60009200056**\n",
        "# **div:K/K-2**"
      ],
      "metadata": {
        "id": "Qdla7VFY4U8K"
      }
    },
    {
      "cell_type": "code",
      "source": [
        "import numpy as np, random, operator, pandas as pd, matplotlib.pyplot as plt"
      ],
      "metadata": {
        "id": "DhwFZ_N70uAF"
      },
      "execution_count": null,
      "outputs": []
    },
    {
      "cell_type": "markdown",
      "source": [
        "# **Create two classes: City and Fitness**"
      ],
      "metadata": {
        "id": "s6AlY8wg3vfb"
      }
    },
    {
      "cell_type": "code",
      "execution_count": null,
      "metadata": {
        "id": "Ygq2qZlYwzyN"
      },
      "outputs": [],
      "source": [
        "class City:\n",
        "    def __init__(self, x, y):\n",
        "        self.x = x\n",
        "        self.y = y\n",
        "    \n",
        "    def distance(self, city):\n",
        "        xDis = abs(self.x - city.x)\n",
        "        yDis = abs(self.y - city.y)\n",
        "        distance = np.sqrt((xDis ** 2) + (yDis ** 2))\n",
        "        return distance\n",
        "    \n",
        "    def __repr__(self):\n",
        "        return \"(\" + str(self.x) + \",\" + str(self.y) + \")\"\n",
        "\n"
      ]
    },
    {
      "cell_type": "code",
      "source": [
        "class Fitness:\n",
        "    def __init__(self, route):\n",
        "        self.route = route\n",
        "        self.distance = 0\n",
        "        self.fitness= 0.0\n",
        "    \n",
        "    def routeDistance(self):\n",
        "        if self.distance ==0:\n",
        "            pathDistance = 0\n",
        "            for i in range(0, len(self.route)):\n",
        "                fromCity = self.route[i]\n",
        "                toCity = None\n",
        "                if i + 1 < len(self.route):\n",
        "                    toCity = self.route[i + 1]\n",
        "                else:\n",
        "                    toCity = self.route[0]\n",
        "                pathDistance += fromCity.distance(toCity)\n",
        "            self.distance = pathDistance\n",
        "        return self.distance\n",
        "    \n",
        "    def routeFitness(self):\n",
        "        if self.fitness == 0:\n",
        "            self.fitness = 1 / float(self.routeDistance())\n",
        "        return self.fitness"
      ],
      "metadata": {
        "id": "A6h0sIKe0o6_"
      },
      "execution_count": null,
      "outputs": []
    },
    {
      "cell_type": "markdown",
      "source": [
        "# **Create the Route**"
      ],
      "metadata": {
        "id": "rtRhlOu935lk"
      }
    },
    {
      "cell_type": "code",
      "source": [
        "def createRoute(cityList):\n",
        "    route = random.sample(cityList, len(cityList))\n",
        "    return route"
      ],
      "metadata": {
        "id": "A02gdiK00tP_"
      },
      "execution_count": null,
      "outputs": []
    },
    {
      "cell_type": "markdown",
      "source": [
        "# **Creating Initial Population**"
      ],
      "metadata": {
        "id": "Dob1xXyt4ExH"
      }
    },
    {
      "cell_type": "code",
      "source": [
        "def initialPopulation(popSize, cityList):\n",
        "    population = []\n",
        "\n",
        "    for i in range(0, popSize):\n",
        "        population.append(createRoute(cityList))\n",
        "    return population"
      ],
      "metadata": {
        "id": "X2oaPFaZ2hZj"
      },
      "execution_count": null,
      "outputs": []
    },
    {
      "cell_type": "markdown",
      "source": [
        "# **Ranking Routes based on fitness results**"
      ],
      "metadata": {
        "id": "F_yk5ui54MQO"
      }
    },
    {
      "cell_type": "code",
      "source": [
        "def rankRoutes(population):\n",
        "    fitnessResults = {}\n",
        "    for i in range(0,len(population)):\n",
        "        fitnessResults[i] = Fitness(population[i]).routeFitness()\n",
        "    return sorted(fitnessResults.items(), key = lambda x:x[1], reverse = True)"
      ],
      "metadata": {
        "id": "2GZKDaRN3L2S"
      },
      "execution_count": null,
      "outputs": []
    },
    {
      "cell_type": "markdown",
      "source": [
        "# **Roulette Selection**"
      ],
      "metadata": {
        "id": "cwYkaCp152nt"
      }
    },
    {
      "cell_type": "code",
      "source": [
        "\n",
        "def selection(popRanked, Size):\n",
        "    selectionResults = []\n",
        "    df = pd.DataFrame(np.array(popRanked), columns=[\"Index\",\"Fitness\"])\n",
        "    df['cum_sum'] = df.Fitness.cumsum()\n",
        "    df['cum_perc'] = 100*df.cum_sum/df.Fitness.sum()\n",
        "    \n",
        "    for i in range(0, Size):\n",
        "        selectionResults.append(popRanked[i][0])\n",
        "    for i in range(0, len(popRanked) - Size):\n",
        "        pick = 100*random.random()\n",
        "        for i in range(0, len(popRanked)):\n",
        "            if pick <= df.iat[i,3]:\n",
        "                selectionResults.append(popRanked[i][0])\n",
        "                break\n",
        "    return selectionResults"
      ],
      "metadata": {
        "id": "0z_G01R_5QGv"
      },
      "execution_count": null,
      "outputs": []
    },
    {
      "cell_type": "code",
      "source": [
        "\n",
        "def matingPool(population, selectionResults):\n",
        "    matingpool = []\n",
        "    for i in range(0, len(selectionResults)):\n",
        "        index = selectionResults[i]\n",
        "        matingpool.append(population[index])\n",
        "    return matingpool"
      ],
      "metadata": {
        "id": "H-6mqjM_9Zgz"
      },
      "execution_count": null,
      "outputs": []
    },
    {
      "cell_type": "code",
      "source": [
        "\n",
        "cityList = []\n",
        "\n",
        "for i in range(0,5):\n",
        "    cityList.append(City(x=int(random.random() * 200), y=int(random.random() * 200)))"
      ],
      "metadata": {
        "id": "FMzQJHyD9bti"
      },
      "execution_count": null,
      "outputs": []
    },
    {
      "cell_type": "code",
      "source": [
        "cityList"
      ],
      "metadata": {
        "colab": {
          "base_uri": "https://localhost:8080/"
        },
        "id": "5akPB9Kn_UJc",
        "outputId": "53d05e50-30ac-466a-e892-016ba4c7acef"
      },
      "execution_count": null,
      "outputs": [
        {
          "output_type": "execute_result",
          "data": {
            "text/plain": [
              "[(159,44), (197,128), (14,16), (128,136), (141,105)]"
            ]
          },
          "metadata": {},
          "execution_count": 20
        }
      ]
    },
    {
      "cell_type": "code",
      "source": [
        "createRoute(cityList)"
      ],
      "metadata": {
        "colab": {
          "base_uri": "https://localhost:8080/"
        },
        "id": "RrYnARZs_cM7",
        "outputId": "7d598caa-a4cc-4a04-ba53-840aa161ac82"
      },
      "execution_count": null,
      "outputs": [
        {
          "output_type": "execute_result",
          "data": {
            "text/plain": [
              "[(128,136), (14,16), (197,128), (159,44), (141,105)]"
            ]
          },
          "metadata": {},
          "execution_count": 21
        }
      ]
    },
    {
      "cell_type": "code",
      "source": [
        "popSize=30"
      ],
      "metadata": {
        "id": "VAiBoH62ACmH"
      },
      "execution_count": null,
      "outputs": []
    },
    {
      "cell_type": "code",
      "source": [
        "population=initialPopulation(popSize, cityList)\n",
        "population"
      ],
      "metadata": {
        "colab": {
          "base_uri": "https://localhost:8080/"
        },
        "id": "K-wpnCJG_wn-",
        "outputId": "50644be5-806b-47a9-d2ac-19d08f4b2b6d"
      },
      "execution_count": null,
      "outputs": [
        {
          "output_type": "execute_result",
          "data": {
            "text/plain": [
              "[[(14,16), (128,136), (197,128), (159,44), (141,105)],\n",
              " [(128,136), (197,128), (141,105), (14,16), (159,44)],\n",
              " [(141,105), (159,44), (197,128), (14,16), (128,136)],\n",
              " [(159,44), (14,16), (141,105), (128,136), (197,128)],\n",
              " [(197,128), (14,16), (141,105), (159,44), (128,136)],\n",
              " [(14,16), (128,136), (159,44), (141,105), (197,128)],\n",
              " [(197,128), (159,44), (14,16), (141,105), (128,136)],\n",
              " [(159,44), (141,105), (128,136), (14,16), (197,128)],\n",
              " [(14,16), (159,44), (128,136), (197,128), (141,105)],\n",
              " [(159,44), (128,136), (141,105), (197,128), (14,16)],\n",
              " [(128,136), (159,44), (197,128), (141,105), (14,16)],\n",
              " [(14,16), (159,44), (128,136), (141,105), (197,128)],\n",
              " [(128,136), (141,105), (197,128), (14,16), (159,44)],\n",
              " [(141,105), (197,128), (14,16), (128,136), (159,44)],\n",
              " [(14,16), (141,105), (128,136), (159,44), (197,128)],\n",
              " [(14,16), (159,44), (141,105), (197,128), (128,136)],\n",
              " [(141,105), (128,136), (14,16), (159,44), (197,128)],\n",
              " [(14,16), (197,128), (141,105), (128,136), (159,44)],\n",
              " [(197,128), (128,136), (159,44), (141,105), (14,16)],\n",
              " [(141,105), (197,128), (159,44), (14,16), (128,136)],\n",
              " [(14,16), (197,128), (128,136), (159,44), (141,105)],\n",
              " [(197,128), (128,136), (159,44), (141,105), (14,16)],\n",
              " [(159,44), (128,136), (197,128), (141,105), (14,16)],\n",
              " [(159,44), (197,128), (14,16), (128,136), (141,105)],\n",
              " [(141,105), (14,16), (197,128), (128,136), (159,44)],\n",
              " [(197,128), (14,16), (159,44), (128,136), (141,105)],\n",
              " [(141,105), (128,136), (159,44), (14,16), (197,128)],\n",
              " [(14,16), (197,128), (141,105), (128,136), (159,44)],\n",
              " [(14,16), (141,105), (197,128), (159,44), (128,136)],\n",
              " [(128,136), (197,128), (14,16), (159,44), (141,105)]]"
            ]
          },
          "metadata": {},
          "execution_count": 34
        }
      ]
    },
    {
      "cell_type": "code",
      "source": [
        "popRanked=rankRoutes(population)\n",
        "print(popRanked)"
      ],
      "metadata": {
        "colab": {
          "base_uri": "https://localhost:8080/"
        },
        "id": "p1m3ehVkAEzH",
        "outputId": "ef468a83-a7bf-4ad2-de35-f42f362113ec"
      },
      "execution_count": null,
      "outputs": [
        {
          "output_type": "stream",
          "name": "stdout",
          "text": [
            "[(3, 0.0020079012252728367), (6, 0.0020079012252728367), (16, 0.0020018167020486094), (19, 0.0020018167020486094), (15, 0.00197317331230483), (29, 0.0018906817775528547), (1, 0.0018873507094175805), (8, 0.0018873507094175805), (22, 0.0018873507094175805), (0, 0.0018319850800853014), (9, 0.0018067863041333692), (11, 0.0018067863041333692), (12, 0.0018067863041333692), (17, 0.0018067863041333688), (25, 0.0018067863041333688), (26, 0.0018067863041333688), (27, 0.0018067863041333688), (2, 0.0017559829047347159), (7, 0.0017559829047347154), (23, 0.0017559829047347154), (10, 0.0017531092027895138), (28, 0.0017531092027895138), (14, 0.0016876867934783255), (4, 0.001667281833783734), (18, 0.001667281833783734), (20, 0.001667281833783734), (21, 0.001667281833783734), (24, 0.001667281833783734), (5, 0.001663084406224737), (13, 0.0016630844062247368)]\n"
          ]
        }
      ]
    },
    {
      "cell_type": "code",
      "source": [
        "selectionResults=selection(popRanked,3)"
      ],
      "metadata": {
        "id": "rOjGCAY2ALB_"
      },
      "execution_count": null,
      "outputs": []
    },
    {
      "cell_type": "code",
      "source": [
        "matpool=matingPool(population, selectionResults)"
      ],
      "metadata": {
        "id": "nMMJJheoAroa"
      },
      "execution_count": null,
      "outputs": []
    },
    {
      "cell_type": "code",
      "source": [
        "def breed(parent1, parent2):\n",
        "    child = []\n",
        "    childP1 = []\n",
        "    childP2 = []\n",
        "    \n",
        "    geneA = int(random.random() * len(parent1))\n",
        "    geneB = int(random.random() * len(parent1))\n",
        "    \n",
        "    startGene = min(geneA, geneB)\n",
        "    endGene = max(geneA, geneB)\n",
        "\n",
        "    for i in range(startGene, endGene):\n",
        "        childP1.append(parent1[i])\n",
        "        \n",
        "    childP2 = [item for item in parent2 if item not in childP1]\n",
        "\n",
        "    child = childP1 + childP2\n",
        "    return child"
      ],
      "metadata": {
        "id": "H9NncjZ_C-vv"
      },
      "execution_count": null,
      "outputs": []
    },
    {
      "cell_type": "code",
      "source": [
        "\n",
        "def breedPopulation(matingpool, eliteSize):\n",
        "    children = []\n",
        "    length = len(matingpool) - eliteSize\n",
        "    pool = random.sample(matingpool, len(matingpool))\n",
        "\n",
        "    for i in range(0,eliteSize):\n",
        "        children.append(matingpool[i])\n",
        "    \n",
        "    for i in range(0, length):\n",
        "        child = breed(pool[i], pool[len(matingpool)-i-1])\n",
        "        children.append(child)\n",
        "    return children"
      ],
      "metadata": {
        "id": "LM4xPxnzGC2c"
      },
      "execution_count": null,
      "outputs": []
    },
    {
      "cell_type": "code",
      "source": [
        "breedPopulation(matpool,30)"
      ],
      "metadata": {
        "colab": {
          "base_uri": "https://localhost:8080/"
        },
        "id": "Ap5GlgsxG7Ki",
        "outputId": "55227569-4175-47ef-b70a-964c9281d8b5"
      },
      "execution_count": null,
      "outputs": [
        {
          "output_type": "execute_result",
          "data": {
            "text/plain": [
              "[[(159,44), (14,16), (141,105), (128,136), (197,128)],\n",
              " [(197,128), (159,44), (14,16), (141,105), (128,136)],\n",
              " [(141,105), (128,136), (14,16), (159,44), (197,128)],\n",
              " [(159,44), (128,136), (197,128), (141,105), (14,16)],\n",
              " [(197,128), (128,136), (159,44), (141,105), (14,16)],\n",
              " [(159,44), (128,136), (197,128), (141,105), (14,16)],\n",
              " [(141,105), (14,16), (197,128), (128,136), (159,44)],\n",
              " [(14,16), (128,136), (197,128), (159,44), (141,105)],\n",
              " [(159,44), (14,16), (141,105), (128,136), (197,128)],\n",
              " [(159,44), (128,136), (141,105), (197,128), (14,16)],\n",
              " [(14,16), (197,128), (128,136), (159,44), (141,105)],\n",
              " [(197,128), (14,16), (141,105), (159,44), (128,136)],\n",
              " [(141,105), (128,136), (14,16), (159,44), (197,128)],\n",
              " [(14,16), (197,128), (141,105), (128,136), (159,44)],\n",
              " [(128,136), (197,128), (141,105), (14,16), (159,44)],\n",
              " [(159,44), (128,136), (197,128), (141,105), (14,16)],\n",
              " [(14,16), (141,105), (128,136), (159,44), (197,128)],\n",
              " [(197,128), (128,136), (159,44), (141,105), (14,16)],\n",
              " [(128,136), (197,128), (141,105), (14,16), (159,44)],\n",
              " [(14,16), (197,128), (128,136), (159,44), (141,105)],\n",
              " [(14,16), (141,105), (128,136), (159,44), (197,128)],\n",
              " [(141,105), (128,136), (159,44), (14,16), (197,128)],\n",
              " [(128,136), (141,105), (197,128), (14,16), (159,44)],\n",
              " [(141,105), (128,136), (14,16), (159,44), (197,128)],\n",
              " [(14,16), (197,128), (128,136), (159,44), (141,105)],\n",
              " [(14,16), (141,105), (128,136), (159,44), (197,128)],\n",
              " [(141,105), (14,16), (197,128), (128,136), (159,44)],\n",
              " [(159,44), (14,16), (141,105), (128,136), (197,128)],\n",
              " [(14,16), (197,128), (141,105), (128,136), (159,44)],\n",
              " [(141,105), (197,128), (14,16), (128,136), (159,44)]]"
            ]
          },
          "metadata": {},
          "execution_count": 44
        }
      ]
    },
    {
      "cell_type": "code",
      "source": [
        "\n",
        "def mutate(individual, mutationRate):\n",
        "    for swapped in range(len(individual)):\n",
        "        if(random.random() < mutationRate):\n",
        "            swapWith = int(random.random() * len(individual))\n",
        "            \n",
        "            city1 = individual[swapped]\n",
        "            city2 = individual[swapWith]\n",
        "            \n",
        "            individual[swapped] = city2\n",
        "            individual[swapWith] = city1\n",
        "    return individual"
      ],
      "metadata": {
        "id": "UixCkaR8HDvb"
      },
      "execution_count": null,
      "outputs": []
    },
    {
      "cell_type": "code",
      "source": [
        "def mutatePopulation(population, mutationRate):\n",
        "    mutatedPop = []\n",
        "    \n",
        "    for ind in range(0, len(population)):\n",
        "        mutatedInd = mutate(population[ind], mutationRate)\n",
        "        mutatedPop.append(mutatedInd)\n",
        "    return mutatedPop"
      ],
      "metadata": {
        "id": "gSHhL6rFJKJV"
      },
      "execution_count": null,
      "outputs": []
    },
    {
      "cell_type": "code",
      "source": [
        "def nextGeneration(currentGen, eliteSize, mutationRate):\n",
        "    popRanked = rankRoutes(currentGen)\n",
        "    selectionResults = selection(popRanked, eliteSize)\n",
        "    matingpool = matingPool(currentGen, selectionResults)\n",
        "    children = breedPopulation(matingpool, eliteSize)\n",
        "    nextGeneration = mutatePopulation(children, mutationRate)\n",
        "    return nextGeneration"
      ],
      "metadata": {
        "id": "xlcfAXzEJMyd"
      },
      "execution_count": null,
      "outputs": []
    },
    {
      "cell_type": "code",
      "source": [
        "def geneticAlgorithm(population, popSize, eliteSize, mutationRate, generations):\n",
        "    pop = initialPopulation(popSize, population)\n",
        "    print(\"Initial distance: \" + str(1 / rankRoutes(pop)[0][1]))\n",
        "    \n",
        "    for i in range(0, generations):\n",
        "        pop = nextGeneration(pop, eliteSize, mutationRate)\n",
        "    \n",
        "    print(\"Final distance: \" + str(1 / rankRoutes(pop)[0][1]))\n",
        "    bestRouteIndex = rankRoutes(pop)[0][0]\n",
        "    bestRoute = pop[bestRouteIndex]\n",
        "    return bestRoute"
      ],
      "metadata": {
        "id": "tC--QO3aJPJ9"
      },
      "execution_count": null,
      "outputs": []
    },
    {
      "cell_type": "code",
      "source": [
        "geneticAlgorithm(population=cityList, popSize=100, eliteSize=20, mutationRate=0.01, generations=500)"
      ],
      "metadata": {
        "colab": {
          "base_uri": "https://localhost:8080/"
        },
        "id": "g1ahyETEJSFd",
        "outputId": "300443db-0a58-49bf-bb12-1968bc57465f"
      },
      "execution_count": null,
      "outputs": [
        {
          "output_type": "stream",
          "name": "stdout",
          "text": [
            "Initial distance: 498.03246664392975\n",
            "Final distance: 498.03246664392975\n"
          ]
        },
        {
          "output_type": "execute_result",
          "data": {
            "text/plain": [
              "[(128,136), (197,128), (159,44), (14,16), (141,105)]"
            ]
          },
          "metadata": {},
          "execution_count": 49
        }
      ]
    },
    {
      "cell_type": "code",
      "source": [],
      "metadata": {
        "id": "7uFK8ai4JWyF"
      },
      "execution_count": null,
      "outputs": []
    }
  ]
}