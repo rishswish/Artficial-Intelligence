{
  "nbformat": 4,
  "nbformat_minor": 0,
  "metadata": {
    "colab": {
      "provenance": []
    },
    "kernelspec": {
      "name": "python3",
      "display_name": "Python 3"
    },
    "language_info": {
      "name": "python"
    }
  },
  "cells": [
    {
      "cell_type": "markdown",
      "source": [
        "*   **Rishabh Patil**\n",
        "*   **SAP : 60009200056**\n",
        "*   **Div : K/K2**"
      ],
      "metadata": {
        "id": "B8kw3XP3Yfjm"
      }
    },
    {
      "cell_type": "code",
      "execution_count": null,
      "metadata": {
        "colab": {
          "base_uri": "https://localhost:8080/"
        },
        "id": "CBT0Km1lNwmg",
        "outputId": "be086375-2768-41c8-e6a7-e944b8d6eb42"
      },
      "outputs": [
        {
          "output_type": "stream",
          "name": "stdout",
          "text": [
            "Looking in indexes: https://pypi.org/simple, https://us-python.pkg.dev/colab-wheels/public/simple/\n",
            "Collecting fuzzywuzzy\n",
            "  Downloading fuzzywuzzy-0.18.0-py2.py3-none-any.whl (18 kB)\n",
            "Installing collected packages: fuzzywuzzy\n",
            "Successfully installed fuzzywuzzy-0.18.0\n",
            "Looking in indexes: https://pypi.org/simple, https://us-python.pkg.dev/colab-wheels/public/simple/\n",
            "Collecting python-Levenshtein\n",
            "  Downloading python_Levenshtein-0.20.8-py3-none-any.whl (9.4 kB)\n",
            "Collecting Levenshtein==0.20.8\n",
            "  Downloading Levenshtein-0.20.8-cp37-cp37m-manylinux_2_17_x86_64.manylinux2014_x86_64.whl (175 kB)\n",
            "\u001b[K     |████████████████████████████████| 175 kB 4.8 MB/s \n",
            "\u001b[?25hCollecting rapidfuzz<3.0.0,>=2.3.0\n",
            "  Downloading rapidfuzz-2.13.2-cp37-cp37m-manylinux_2_17_x86_64.manylinux2014_x86_64.whl (2.2 MB)\n",
            "\u001b[K     |████████████████████████████████| 2.2 MB 40.8 MB/s \n",
            "\u001b[?25hInstalling collected packages: rapidfuzz, Levenshtein, python-Levenshtein\n",
            "Successfully installed Levenshtein-0.20.8 python-Levenshtein-0.20.8 rapidfuzz-2.13.2\n"
          ]
        }
      ],
      "source": [
        "!pip install fuzzywuzzy\n",
        "!pip install python-Levenshtein"
      ]
    },
    {
      "cell_type": "code",
      "source": [
        " !pip install -U scikit-fuzzy"
      ],
      "metadata": {
        "colab": {
          "base_uri": "https://localhost:8080/"
        },
        "id": "S4e6NSFpSuC1",
        "outputId": "9c71ac11-8d28-40f7-c4be-12c5bab2f72f"
      },
      "execution_count": null,
      "outputs": [
        {
          "output_type": "stream",
          "name": "stdout",
          "text": [
            "Looking in indexes: https://pypi.org/simple, https://us-python.pkg.dev/colab-wheels/public/simple/\n",
            "Collecting scikit-fuzzy\n",
            "  Downloading scikit-fuzzy-0.4.2.tar.gz (993 kB)\n",
            "\u001b[K     |████████████████████████████████| 993 kB 5.2 MB/s \n",
            "\u001b[?25hRequirement already satisfied: numpy>=1.6.0 in /usr/local/lib/python3.7/dist-packages (from scikit-fuzzy) (1.21.6)\n",
            "Requirement already satisfied: scipy>=0.9.0 in /usr/local/lib/python3.7/dist-packages (from scikit-fuzzy) (1.7.3)\n",
            "Requirement already satisfied: networkx>=1.9.0 in /usr/local/lib/python3.7/dist-packages (from scikit-fuzzy) (2.6.3)\n",
            "Building wheels for collected packages: scikit-fuzzy\n",
            "  Building wheel for scikit-fuzzy (setup.py) ... \u001b[?25l\u001b[?25hdone\n",
            "  Created wheel for scikit-fuzzy: filename=scikit_fuzzy-0.4.2-py3-none-any.whl size=894089 sha256=4abddc18abce40a54471ab390d54b296e718efa2a3657a60fd7fa56fdad8b2fa\n",
            "  Stored in directory: /root/.cache/pip/wheels/d5/74/fc/38588a3d2e3f34f74588e6daa3aa5b0a322bd6f9420a707131\n",
            "Successfully built scikit-fuzzy\n",
            "Installing collected packages: scikit-fuzzy\n",
            "Successfully installed scikit-fuzzy-0.4.2\n"
          ]
        }
      ]
    },
    {
      "cell_type": "code",
      "source": [
        "\n",
        "from fuzzywuzzy import fuzz\n",
        "from fuzzywuzzy import process"
      ],
      "metadata": {
        "id": "1TRGSOa1OXHS"
      },
      "execution_count": null,
      "outputs": []
    },
    {
      "cell_type": "code",
      "source": [
        "from skfuzzy import control as ctrl\n",
        "import skfuzzy as fuzz\n",
        "import numpy as np"
      ],
      "metadata": {
        "id": "HdR_IPuePOdx"
      },
      "execution_count": null,
      "outputs": []
    },
    {
      "cell_type": "code",
      "source": [
        "degree_dirt = ctrl.Antecedent(np.arange(0, 101, 1), 'degree_dirt')\n",
        "type_dirt = ctrl.Antecedent(np.arange(0, 101, 1), 'type_dirt')\n",
        "wash_time = ctrl.Consequent(np.arange(0, 61, 1), 'wash_time')\n",
        "\n",
        "print(degree_dirt)"
      ],
      "metadata": {
        "colab": {
          "base_uri": "https://localhost:8080/"
        },
        "id": "4Alb7_6oTJ7u",
        "outputId": "6db6692a-9cae-49a9-c83b-e71c14c8c150"
      },
      "execution_count": null,
      "outputs": [
        {
          "output_type": "stream",
          "name": "stdout",
          "text": [
            "Antecedent: degree_dirt\n"
          ]
        }
      ]
    },
    {
      "cell_type": "code",
      "source": [
        "class washing_machine:\n",
        "\n",
        "    degree_dirt = ctrl.Antecedent(np.arange(0, 101, 1), 'degree_dirt')\n",
        "    type_dirt = ctrl.Antecedent(np.arange(0, 101, 1), 'type_dirt')\n",
        "    wash_time = ctrl.Consequent(np.arange(0, 61, 1), 'wash_time')\n",
        "\n",
        "    degree_names = ['Low', 'Medium', 'High']\n",
        "    type_names = ['NonFat', 'Medium', 'Fat']\n",
        "\n",
        "    #Outputing them into auto-membership functions\n",
        "    degree_dirt.automf(names=degree_names)\n",
        "    type_dirt.automf(names=type_names)\n",
        "\n",
        "    # Washing Time Universe\n",
        "    wash_time['very_short'] = fuzz.trimf(wash_time.universe, [0, 8, 12])\n",
        "    wash_time['short'] = fuzz.trimf(wash_time.universe, [8, 12, 20])\n",
        "    wash_time['medium'] = fuzz.trimf(wash_time.universe, [12, 20, 40])\n",
        "    wash_time['long'] = fuzz.trimf(wash_time.universe, [20, 40, 60])\n",
        "    wash_time['VeryLong'] = fuzz.trimf(wash_time.universe, [40, 60, 60])\n",
        "\n",
        "    # Rule Application\n",
        "    rule1 = ctrl.Rule(degree_dirt['High'] | type_dirt['Fat'], wash_time['VeryLong'])\n",
        "    rule2 = ctrl.Rule(degree_dirt['Medium'] | type_dirt['Fat'], wash_time['long'])\n",
        "    rule3 = ctrl.Rule(degree_dirt['Low'] | type_dirt['Fat'], wash_time['long'])\n",
        "    rule4 = ctrl.Rule(degree_dirt['High'] | type_dirt['Medium'], wash_time['long'])\n",
        "    rule5 = ctrl.Rule(degree_dirt['Medium'] | type_dirt['Medium'], wash_time['medium'])\n",
        "    rule6 = ctrl.Rule(degree_dirt['Low'] | type_dirt['Medium'], wash_time['medium'])\n",
        "    rule7 = ctrl.Rule(degree_dirt['High'] | type_dirt['NonFat'], wash_time['medium'])\n",
        "    rule8 = ctrl.Rule(degree_dirt['Medium'] | type_dirt['NonFat'], wash_time['short'])\n",
        "    rule9 = ctrl.Rule(degree_dirt['Low'] | type_dirt['NonFat'], wash_time['very_short'])\n",
        "\n",
        "    # Washing Control Simulation\n",
        "    washing_ctrl = ctrl.ControlSystem([rule1, rule2, rule3, rule4, rule5, rule6, rule7, rule8, rule9])\n",
        "    washing = ctrl.ControlSystemSimulation(washing_ctrl)\n",
        "\n",
        "def fuzzify_laundry(fuzz_type,fuzz_degree):\n",
        "\n",
        "    washing_machine.washing.input['type_dirt'] = fuzz_type\n",
        "    washing_machine.washing.input['degree_dirt'] = fuzz_degree\n",
        "\n",
        "    washing_machine.washing.compute()\n",
        "\n",
        "    washing_machine.wash_time.view(sim=washing_machine.washing)\n",
        "\n",
        "    return washing_machine.washing.output['wash_time']"
      ],
      "metadata": {
        "id": "hmVjqXD4SI11"
      },
      "execution_count": null,
      "outputs": []
    },
    {
      "cell_type": "code",
      "source": [
        "\n",
        "\n",
        "def compute_washing_parameters(type_of_dirt,degree_of_dirt):\n",
        "\n",
        "    if type_of_dirt < 0.0 or type_of_dirt > 100.0:\n",
        "        raise Exception(\"Invalid Type of Dirtiness: %lf\" %type_of_dirt)\n",
        "    if degree_of_dirt < 0.0 or type_of_dirt > 100.0:\n",
        "        raise Exception(\"Invalid Degree of Dirtiness: %lf\" %degree_of_dirt)\n",
        "\n",
        "    type_fuzzy = fuzzify_laundry(type_of_dirt,degree_of_dirt)\n",
        "\n",
        "    return type_fuzzy\n",
        "\n",
        "\n",
        "\n",
        "if __name__ == \"__main__\":\n",
        "    type_of_dirt = float(input(\"Enter Type of Dirtiness [0-100]\"))\n",
        "    degree_of_dirt = float(input(\"Enter Degree of Dirtiness [0-100]\"))\n",
        "    washing_parameters = compute_washing_parameters(type_of_dirt,degree_of_dirt)\n",
        "    print(washing_parameters)"
      ],
      "metadata": {
        "colab": {
          "base_uri": "https://localhost:8080/",
          "height": 334
        },
        "id": "BsELX2sLTkxf",
        "outputId": "c9c54c4e-f6f9-4191-848d-419d2db8cee5"
      },
      "execution_count": null,
      "outputs": [
        {
          "output_type": "stream",
          "name": "stdout",
          "text": [
            "Enter Type of Dirtiness [0-100]70\n",
            "Enter Degree of Dirtiness [0-100]50\n",
            "32.53564547206166\n"
          ]
        },
        {
          "output_type": "display_data",
          "data": {
            "text/plain": [
              "<Figure size 432x288 with 1 Axes>"
            ],
            "image/png": "[encoded data removed]"
          },
          "metadata": {
            "needs_background": "light"
          }
        }
      ]
    },
    {
      "cell_type": "code",
      "source": [],
      "metadata": {
        "id": "--v93wPpTsSd"
      },
      "execution_count": null,
      "outputs": []
    }
  ]
}