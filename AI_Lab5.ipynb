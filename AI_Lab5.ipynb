{
  "nbformat": 4,
  "nbformat_minor": 0,
  "metadata": {
    "colab": {
      "provenance": []
    },
    "kernelspec": {
      "name": "python3",
      "display_name": "Python 3"
    },
    "language_info": {
      "name": "python"
    }
  },
  "cells": [
    {
      "cell_type": "markdown",
      "source": [
        "\n",
        "\n",
        "*   **Rishabh Patil**\n",
        "*   **SAP : 60009200056**\n",
        "*   **Div : K/K2**\n",
        "\n",
        "\n",
        "\n"
      ],
      "metadata": {
        "id": "2jLGTq_Uw54K"
      }
    },
    {
      "cell_type": "code",
      "source": [
        "import numpy as np, random, pandas as pd, matplotlib.pyplot as plt"
      ],
      "metadata": {
        "id": "qm6elzTuAXmt"
      },
      "execution_count": null,
      "outputs": []
    },
    {
      "cell_type": "markdown",
      "source": [
        "Creating Path"
      ],
      "metadata": {
        "id": "pcImjudd14d1"
      }
    },
    {
      "cell_type": "code",
      "source": [
        "def createPath(cityList):\n",
        "    return random.sample(cityList, len(cityList))"
      ],
      "metadata": {
        "id": "uXxMjW3x153J"
      },
      "execution_count": null,
      "outputs": []
    },
    {
      "cell_type": "markdown",
      "source": [
        "Creating initial population"
      ],
      "metadata": {
        "id": "f3Pc3W9l2CTj"
      }
    },
    {
      "cell_type": "code",
      "source": [
        "def initialPop(size, cityList):\n",
        "    population = []\n",
        "    for i in range(0, size):\n",
        "        population.append(createPath(cityList))\n",
        "    return population"
      ],
      "metadata": {
        "id": "FMaOCrb92B9q"
      },
      "execution_count": null,
      "outputs": []
    },
    {
      "cell_type": "markdown",
      "source": [
        "Class for nodes"
      ],
      "metadata": {
        "id": "ZzrN3YKszY33"
      }
    },
    {
      "cell_type": "code",
      "execution_count": null,
      "metadata": {
        "id": "l6OrdFGEw1zD"
      },
      "outputs": [],
      "source": [
        "class Node:\n",
        "    def __init__(self, x, y):\n",
        "        self.x = x\n",
        "        self.y = y\n",
        "    \n",
        "    def distance(self, node):\n",
        "        return ((self.x-node.x)**2+(self.y-node.y)**2)**0.5\n",
        "    \n",
        "    def __repr__(self):\n",
        "        return f\"({self.x},{self.y})\""
      ]
    },
    {
      "cell_type": "markdown",
      "source": [
        "Class for calculating fitness"
      ],
      "metadata": {
        "id": "UgmTo-pE0SEe"
      }
    },
    {
      "cell_type": "code",
      "source": [
        "class Fitness:\n",
        "    def __init__(self, path):\n",
        "        self.path = path\n",
        "        self.distance = 0\n",
        "        self.fitness = 0.0\n",
        "    \n",
        "    def pathDistance(self):\n",
        "        if self.distance==0:\n",
        "            pathDistance = 0\n",
        "            for i in range(0, len(self.path)):\n",
        "                initialCity = self.path[i]\n",
        "                if i+1<len(self.path):\n",
        "                    finalCity = self.path[i+1]\n",
        "                else:\n",
        "                    finalCity = self.path[0]\n",
        "                pathDistance+=initialCity.distance(finalCity)\n",
        "            self.distance = pathDistance\n",
        "        return self.distance\n",
        "    \n",
        "    def fitness_val(self):\n",
        "        if self.fitness==0:\n",
        "            self.fitness = 1/float(self.pathDistance())\n",
        "        return self.fitness"
      ],
      "metadata": {
        "id": "oTp-R1zA0Ruy"
      },
      "execution_count": null,
      "outputs": []
    },
    {
      "cell_type": "markdown",
      "source": [
        "Determining fitness and selecting best"
      ],
      "metadata": {
        "id": "GOJsRFaB4mPK"
      }
    },
    {
      "cell_type": "code",
      "source": [
        "def bestFitness(population):\n",
        "    ans = {}\n",
        "    for i in range(0,len(population)):\n",
        "        ans[i] = Fitness(population[i]).fitness_val()\n",
        "    return sorted(ans.items(), key=lambda x:x[1], reverse = True)"
      ],
      "metadata": {
        "id": "nej6b0JM4rzQ"
      },
      "execution_count": null,
      "outputs": []
    },
    {
      "cell_type": "markdown",
      "source": [
        "Roulette wheel"
      ],
      "metadata": {
        "id": "mMaNkVPy5eJv"
      }
    },
    {
      "cell_type": "code",
      "source": [
        "def selection(popRanked, size):\n",
        "    ans = []\n",
        "    df = pd.DataFrame(np.array(popRanked), columns=[\"Index\",\"Fitness\"])\n",
        "    df['cum_sum'] = df.Fitness.cumsum()\n",
        "    df['cum_perc'] = df.cum_sum*100/df.Fitness.sum()\n",
        "    for i in range(0, size):\n",
        "        ans.append(popRanked[i][0])\n",
        "    for i in range(0, len(popRanked)-size):\n",
        "        select = 100*random.random()\n",
        "        for i in range(0, len(popRanked)):\n",
        "            if select<=df.iat[i,3]:\n",
        "                ans.append(popRanked[i][0])\n",
        "                break\n",
        "    return ans"
      ],
      "metadata": {
        "id": "3D6_9w655hHg"
      },
      "execution_count": null,
      "outputs": []
    },
    {
      "cell_type": "code",
      "source": [
        "def matingPool(population, selectionResults):\n",
        "    matingpool = []\n",
        "    for i in range(0, len(selectionResults)):\n",
        "        index = selectionResults[i]\n",
        "        matingpool.append(population[index])\n",
        "    return matingpool"
      ],
      "metadata": {
        "id": "zDHEcRLHFZFv"
      },
      "execution_count": null,
      "outputs": []
    },
    {
      "cell_type": "markdown",
      "source": [
        "Crossover"
      ],
      "metadata": {
        "id": "-kXy3jeZ0ZlB"
      }
    },
    {
      "cell_type": "code",
      "source": [
        "def crossover(parent1, parent2):\n",
        "    child = []\n",
        "    childP1 = []\n",
        "    childP2 = []\n",
        "    geneA = int(random.random() * len(parent1))\n",
        "    geneB = int(random.random() * len(parent1))\n",
        "    startGene = min(geneA, geneB)\n",
        "    endGene = max(geneA, geneB)\n",
        "    for i in range(startGene, endGene):\n",
        "        childP1.append(parent1[i])\n",
        "    childP2 = [item for item in parent2 if item not in childP1]\n",
        "    child = childP1 + childP2\n",
        "    return child"
      ],
      "metadata": {
        "id": "PY_ODieh0az8"
      },
      "execution_count": null,
      "outputs": []
    },
    {
      "cell_type": "code",
      "source": [
        "def breedPopulation(matingpool, eliteSize):\n",
        "    children = []\n",
        "    length = len(matingpool) - eliteSize\n",
        "    pool = random.sample(matingpool, len(matingpool))\n",
        "    for i in range(0,eliteSize):\n",
        "        children.append(matingpool[i])\n",
        "    for i in range(0, length):\n",
        "        child = crossover(pool[i], pool[len(matingpool)-i-1])\n",
        "        children.append(child)\n",
        "    return children"
      ],
      "metadata": {
        "id": "CwrIP7ca0k-L"
      },
      "execution_count": null,
      "outputs": []
    },
    {
      "cell_type": "markdown",
      "source": [
        "Mutate"
      ],
      "metadata": {
        "id": "mCI-kmK80wOy"
      }
    },
    {
      "cell_type": "code",
      "source": [
        "\n",
        "def mutate(individual, mutationRate):\n",
        "    for swapped in range(len(individual)):\n",
        "        if(random.random() < mutationRate):\n",
        "            swapWith = int(random.random() * len(individual))\n",
        "            city1 = individual[swapped]\n",
        "            city2 = individual[swapWith]\n",
        "            individual[swapped] = city2\n",
        "            individual[swapWith] = city1\n",
        "    return individual"
      ],
      "metadata": {
        "id": "zYn-dImZ0zFr"
      },
      "execution_count": null,
      "outputs": []
    },
    {
      "cell_type": "code",
      "source": [
        "def mutatePopulation(population, mutationRate):\n",
        "    mutatedPop = []\n",
        "    for ind in range(0, len(population)):\n",
        "        mutatedInd = mutate(population[ind], mutationRate)\n",
        "        mutatedPop.append(mutatedInd)\n",
        "    return mutatedPop"
      ],
      "metadata": {
        "id": "zLsO_3kG05FB"
      },
      "execution_count": null,
      "outputs": []
    },
    {
      "cell_type": "markdown",
      "source": [
        "Driver Code"
      ],
      "metadata": {
        "id": "_TqpwDjMCUGC"
      }
    },
    {
      "cell_type": "code",
      "source": [
        "def nextGeneration(currentGen, eliteSize, mutationRate):\n",
        "    popRanked = bestFitness(currentGen)\n",
        "    selectionResults = selection(popRanked, eliteSize)\n",
        "    matingpool = matingPool(currentGen, selectionResults)\n",
        "    children = breedPopulation(matingpool, eliteSize)\n",
        "    nextGeneration = mutatePopulation(children, mutationRate)\n",
        "    return nextGeneration"
      ],
      "metadata": {
        "id": "x2UAJQPNHaQw"
      },
      "execution_count": null,
      "outputs": []
    },
    {
      "cell_type": "code",
      "source": [
        "def geneticAlgorithm(population, popSize, eliteSize, mutationRate, generations):\n",
        "    pop = initialPop(popSize, population)\n",
        "    print(\"Initial distance: \" + str(1 / bestFitness(pop)[0][1]))\n",
        "    for i in range(0, generations):\n",
        "        pop = nextGeneration(pop, eliteSize, mutationRate)\n",
        "    print(\"Final distance: \" + str(1 / bestFitness(pop)[0][1]))\n",
        "    bestRouteIndex = bestFitness(pop)[0][0]\n",
        "    bestRoute = pop[bestRouteIndex]\n",
        "    return bestRoute"
      ],
      "metadata": {
        "id": "YS0o97MhHsXI"
      },
      "execution_count": null,
      "outputs": []
    },
    {
      "cell_type": "markdown",
      "source": [
        "Plotting"
      ],
      "metadata": {
        "id": "F7pJabIy1PeJ"
      }
    },
    {
      "cell_type": "code",
      "source": [
        "def geneticAlgorithmPlot(population, popSize, eliteSize, mutationRate, generations):\n",
        "    pop = initialPop(popSize, population)\n",
        "    progress = []\n",
        "    progress.append(1 / bestFitness(pop)[0][1])\n",
        "    for i in range(0, generations):\n",
        "        pop = nextGeneration(pop, eliteSize, mutationRate)\n",
        "        progress.append(1 / bestFitness(pop)[0][1])\n",
        "    plt.plot(progress)\n",
        "    plt.ylabel('Distance')\n",
        "    plt.xlabel('Generation')\n",
        "    plt.show()"
      ],
      "metadata": {
        "id": "gnkR0h5O1SzH"
      },
      "execution_count": null,
      "outputs": []
    },
    {
      "cell_type": "markdown",
      "source": [
        "1. For 20 cities "
      ],
      "metadata": {
        "id": "z2MejGo63iWU"
      }
    },
    {
      "cell_type": "code",
      "source": [
        "cityList = []\n",
        "for i in range(0,20):\n",
        "    cityList.append(Node(x=int(random.random() * 200), y=int(random.random() * 200)))"
      ],
      "metadata": {
        "id": "_ZlAiYuXHurc"
      },
      "execution_count": null,
      "outputs": []
    },
    {
      "cell_type": "code",
      "source": [
        "geneticAlgorithm(population=cityList, popSize=100, eliteSize=20, mutationRate=0.01, generations=500)"
      ],
      "metadata": {
        "colab": {
          "base_uri": "https://localhost:8080/"
        },
        "id": "RGCCoSAWHv66",
        "outputId": "befc2d6c-5bdd-4735-a561-cbcb9f98b735"
      },
      "execution_count": null,
      "outputs": [
        {
          "output_type": "stream",
          "name": "stdout",
          "text": [
            "Initial distance: 446.6484320307101\n",
            "Final distance: 446.6484320307101\n"
          ]
        },
        {
          "output_type": "execute_result",
          "data": {
            "text/plain": [
              "[(156,12), (13,78), (71,157), (143,114), (155,103)]"
            ]
          },
          "metadata": {},
          "execution_count": 48
        }
      ]
    },
    {
      "cell_type": "code",
      "source": [
        "geneticAlgorithmPlot(population=cityList, popSize=100, eliteSize=20, mutationRate=0.01, generations=500)"
      ],
      "metadata": {
        "colab": {
          "base_uri": "https://localhost:8080/",
          "height": 281
        },
        "id": "r4LZDjsZ1ctn",
        "outputId": "0c9c295a-ae3f-450f-9a5f-718801e6d414"
      },
      "execution_count": null,
      "outputs": [
        {
          "output_type": "display_data",
          "data": {
            "text/plain": [
              "<Figure size 432x288 with 1 Axes>"
            ],
            "image/png": "[encoded data removed]"
          },
          "metadata": {
            "needs_background": "light"
          }
        }
      ]
    },
    {
      "cell_type": "markdown",
      "source": [
        "For 5,10 and 40 cities"
      ],
      "metadata": {
        "id": "wiU7k96W5I95"
      }
    },
    {
      "cell_type": "code",
      "source": [
        "cityList = []\n",
        "for i in range(0,5):\n",
        "    cityList.append(Node(x=int(random.random() * 200), y=int(random.random() * 200)))"
      ],
      "metadata": {
        "id": "2A4ERNM45ORn"
      },
      "execution_count": null,
      "outputs": []
    },
    {
      "cell_type": "code",
      "source": [
        "geneticAlgorithm(population=cityList, popSize=100, eliteSize=20, mutationRate=0.01, generations=500)"
      ],
      "metadata": {
        "colab": {
          "base_uri": "https://localhost:8080/"
        },
        "id": "d42zydmZ5TQo",
        "outputId": "8e000ecb-34c3-4dda-f7ad-df7f845f2019"
      },
      "execution_count": null,
      "outputs": [
        {
          "output_type": "stream",
          "name": "stdout",
          "text": [
            "Initial distance: 525.115510279991\n",
            "Final distance: 525.115510279991\n"
          ]
        },
        {
          "output_type": "execute_result",
          "data": {
            "text/plain": [
              "[(192,170), (163,33), (124,72), (38,46), (42,131)]"
            ]
          },
          "metadata": {},
          "execution_count": 50
        }
      ]
    },
    {
      "cell_type": "code",
      "source": [
        "geneticAlgorithmPlot(population=cityList, popSize=100, eliteSize=20, mutationRate=0.01, generations=500)"
      ],
      "metadata": {
        "colab": {
          "base_uri": "https://localhost:8080/",
          "height": 279
        },
        "id": "7EB3zdwZ5bb0",
        "outputId": "df4a40e9-acce-4031-d12b-e0b1391f06b6"
      },
      "execution_count": null,
      "outputs": [
        {
          "output_type": "display_data",
          "data": {
            "text/plain": [
              "<Figure size 432x288 with 1 Axes>"
            ],
            "image/png": "[encoded data removed]"
          },
          "metadata": {
            "needs_background": "light"
          }
        }
      ]
    },
    {
      "cell_type": "code",
      "source": [
        "cityList = []\n",
        "for i in range(0,10):\n",
        "    cityList.append(Node(x=int(random.random() * 200), y=int(random.random() * 200)))"
      ],
      "metadata": {
        "id": "8CpfFqro5V5n"
      },
      "execution_count": null,
      "outputs": []
    },
    {
      "cell_type": "code",
      "source": [
        "geneticAlgorithm(population=cityList, popSize=100, eliteSize=20, mutationRate=0.01, generations=500)"
      ],
      "metadata": {
        "colab": {
          "base_uri": "https://localhost:8080/"
        },
        "id": "FUeN6XAc5USt",
        "outputId": "80166182-18db-45d5-cd23-8aef8fe939c8"
      },
      "execution_count": null,
      "outputs": [
        {
          "output_type": "stream",
          "name": "stdout",
          "text": [
            "Initial distance: 710.6857215646991\n",
            "Final distance: 507.38123191034714\n"
          ]
        },
        {
          "output_type": "execute_result",
          "data": {
            "text/plain": [
              "[(197,197),\n",
              " (154,117),\n",
              " (140,123),\n",
              " (112,72),\n",
              " (47,45),\n",
              " (23,43),\n",
              " (36,62),\n",
              " (73,119),\n",
              " (94,146),\n",
              " (136,192)]"
            ]
          },
          "metadata": {},
          "execution_count": 53
        }
      ]
    },
    {
      "cell_type": "code",
      "source": [
        "geneticAlgorithmPlot(population=cityList, popSize=100, eliteSize=20, mutationRate=0.01, generations=500)"
      ],
      "metadata": {
        "colab": {
          "base_uri": "https://localhost:8080/",
          "height": 279
        },
        "id": "pmp_4n1S5cTd",
        "outputId": "1a079f35-66e1-44ce-e64b-cddf5383df9e"
      },
      "execution_count": null,
      "outputs": [
        {
          "output_type": "display_data",
          "data": {
            "text/plain": [
              "<Figure size 432x288 with 1 Axes>"
            ],
            "image/png": "[encoded data removed]"
          },
          "metadata": {
            "needs_background": "light"
          }
        }
      ]
    },
    {
      "cell_type": "code",
      "source": [
        "cityList = []\n",
        "for i in range(0,40):\n",
        "    cityList.append(Node(x=int(random.random() * 200), y=int(random.random() * 200)))"
      ],
      "metadata": {
        "id": "aACy4igd5WkS"
      },
      "execution_count": null,
      "outputs": []
    },
    {
      "cell_type": "code",
      "source": [
        "geneticAlgorithm(population=cityList, popSize=100, eliteSize=20, mutationRate=0.01, generations=500)"
      ],
      "metadata": {
        "colab": {
          "base_uri": "https://localhost:8080/"
        },
        "id": "klY5XGvD5U6k",
        "outputId": "8449347e-9108-44f9-9895-e5a04c42180f"
      },
      "execution_count": null,
      "outputs": [
        {
          "output_type": "stream",
          "name": "stdout",
          "text": [
            "Initial distance: 2772.3623539549417\n",
            "Final distance: 1396.6060239539956\n"
          ]
        },
        {
          "output_type": "execute_result",
          "data": {
            "text/plain": [
              "[(118,89),\n",
              " (128,99),\n",
              " (94,122),\n",
              " (77,142),\n",
              " (55,137),\n",
              " (53,136),\n",
              " (54,112),\n",
              " (55,98),\n",
              " (74,87),\n",
              " (99,34),\n",
              " (126,41),\n",
              " (126,41),\n",
              " (132,54),\n",
              " (139,66),\n",
              " (167,115),\n",
              " (155,116),\n",
              " (147,140),\n",
              " (130,174),\n",
              " (188,65),\n",
              " (197,67),\n",
              " (175,94),\n",
              " (140,52),\n",
              " (139,24),\n",
              " (141,28),\n",
              " (125,95),\n",
              " (109,92),\n",
              " (108,149),\n",
              " (111,139),\n",
              " (102,123),\n",
              " (115,126),\n",
              " (4,84),\n",
              " (0,34),\n",
              " (3,1),\n",
              " (33,48),\n",
              " (25,63),\n",
              " (89,28),\n",
              " (99,42),\n",
              " (124,69),\n",
              " (120,66),\n",
              " (146,14)]"
            ]
          },
          "metadata": {},
          "execution_count": 56
        }
      ]
    },
    {
      "cell_type": "code",
      "source": [
        "geneticAlgorithmPlot(population=cityList, popSize=100, eliteSize=20, mutationRate=0.01, generations=500)"
      ],
      "metadata": {
        "colab": {
          "base_uri": "https://localhost:8080/",
          "height": 279
        },
        "id": "M7OhPGrl5dDi",
        "outputId": "09c426cb-bbaf-4401-a54f-a70f07e710b3"
      },
      "execution_count": null,
      "outputs": [
        {
          "output_type": "display_data",
          "data": {
            "text/plain": [
              "<Figure size 432x288 with 1 Axes>"
            ],
            "image/png": "[encoded data removed]"
          },
          "metadata": {
            "needs_background": "light"
          }
        }
      ]
    }
  ]
}