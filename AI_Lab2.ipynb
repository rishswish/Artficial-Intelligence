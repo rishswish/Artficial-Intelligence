{
  "nbformat": 4,
  "nbformat_minor": 0,
  "metadata": {
    "colab": {
      "provenance": []
    },
    "kernelspec": {
      "name": "python3",
      "display_name": "Python 3"
    },
    "language_info": {
      "name": "python"
    }
  },
  "cells": [
    {
      "cell_type": "markdown",
      "source": [
        "\n",
        "\n",
        "*   **Rishabh Patil**\n",
        "*   **Div : K/K-2**\n",
        "*   **60009200056**\n",
        "\n",
        "\n",
        "\n"
      ],
      "metadata": {
        "id": "lD0SzoxXd8f2"
      }
    },
    {
      "cell_type": "markdown",
      "source": [
        "DFID Algorithm on Graphs"
      ],
      "metadata": {
        "id": "cLYHDAD1ebkc"
      }
    },
    {
      "cell_type": "code",
      "execution_count": null,
      "metadata": {
        "id": "h1imGa8XqVjp",
        "colab": {
          "base_uri": "https://localhost:8080/"
        },
        "outputId": "bdaaa0d1-eabe-4a5a-f2d3-54d51023dbf7"
      },
      "outputs": [
        {
          "output_type": "stream",
          "name": "stdout",
          "text": [
            "Enter the number of nodes : 9\n",
            "Enter vertices connected to node 1 : 2 3\n",
            "Enter vertices connected to node 2 : 4 5\n",
            "Enter vertices connected to node 3 : 6 7\n",
            "Enter vertices connected to node 4 : \n",
            "Enter vertices connected to node 5 : 8\n",
            "Enter vertices connected to node 6 : \n",
            "Enter vertices connected to node 7 : \n",
            "Enter vertices connected to node 8 : 9\n",
            "Enter vertices connected to node 9 : \n",
            "\n",
            "Enter number of test cases : 3\n",
            "\n",
            "Enter source node : 1\n",
            "Enter destination node : 8\n",
            "Enter depth : 3\n",
            "Iteration 0 : 1 \n",
            "Iteration 1 : 1 2 3 \n",
            "Iteration 2 : 1 2 4 5 3 6 7 \n",
            "Iteration 3 : 1 2 4 5 8 \n",
            "Destination Node found within depth limit.\n",
            "\n",
            "Enter source node : 1\n",
            "Enter destination node : 9\n",
            "Enter depth : 3\n",
            "Iteration 0 : 1 \n",
            "Iteration 1 : 1 2 3 \n",
            "Iteration 2 : 1 2 4 5 3 6 7 \n",
            "Iteration 3 : 1 2 4 5 8 3 6 7 \n",
            "Destination Node not found\n",
            "\n",
            "Enter source node : 1\n",
            "Enter destination node : 9\n",
            "Enter depth : 10\n",
            "Iteration 0 : 1 \n",
            "Iteration 1 : 1 2 3 \n",
            "Iteration 2 : 1 2 4 5 3 6 7 \n",
            "Iteration 3 : 1 2 4 5 8 3 6 7 \n",
            "Iteration 4 : 1 2 4 5 8 9 \n",
            "Destination Node found within depth limit.\n"
          ]
        }
      ],
      "source": [
        "graph = {}\n",
        "n=int(input(\"Enter the number of nodes : \"))\n",
        "for i in range(n):\n",
        "  graph[i+1]=list(map(int,input(f\"Enter vertices connected to node {i+1} : \").split()))\n",
        "\n",
        "path = []\n",
        "def DFS(v,goal,graph,limit):\n",
        "  if v==goal:\n",
        "    return 1\n",
        "  for node in graph[v]:\n",
        "    if int(limit)-1>=0:\n",
        "      print(f\"{node} \",end=\"\")\n",
        "      if DFS(node,goal,graph,limit-1)!=0:\n",
        "        return 1\n",
        "  return 0\n",
        "def DFID(currentNode, destination, graph, maxDepth):\n",
        "  for i in range(maxDepth+1):\n",
        "    print(f\"Iteration {i} : {currentNode} \",end=\"\")\n",
        "    if DFS(currentNode,destination,graph,i):\n",
        "      return 1\n",
        "    print()\n",
        "  return 0\n",
        "print()\n",
        "t=int(input(\"Enter number of test cases : \"))\n",
        "while t:\n",
        "  print()\n",
        "  sn = int(input(\"Enter source node : \"))\n",
        "  dn = int(input(\"Enter destination node : \"))\n",
        "  d = int(input(\"Enter depth : \"))\n",
        "  if DFID(sn,dn,graph,d):\n",
        "    print()\n",
        "    print(\"Destination Node found within depth limit.\")\n",
        "  else:\n",
        "    print(\"Destination Node not found\")\n",
        "  t-=1"
      ]
    }
  ]
}